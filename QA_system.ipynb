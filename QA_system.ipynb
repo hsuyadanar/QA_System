{
  "nbformat": 4,
  "nbformat_minor": 0,
  "metadata": {
    "colab": {
      "name": "QA system.ipynb",
      "provenance": []
    },
    "kernelspec": {
      "name": "python3",
      "display_name": "Python 3"
    },
    "language_info": {
      "name": "python"
    }
  },
  "cells": [
    {
      "cell_type": "code",
      "execution_count": 5,
      "metadata": {
        "id": "Tx7dHfbpiTe3"
      },
      "outputs": [],
      "source": [
        "#Myanmar Syllable segmentation\n",
        "\n",
        "import re\n",
        "\n",
        "def syllablebreak(line):\n",
        "  myConsonant = \"က-အ\"\n",
        "  enChar = \"a-zA-Z0-9\"\n",
        "  otherChar = \"ဣဤဥဦဧဩဪဿ၌၍၏၀-၉၊။!-/:-@[-`{-~\\s\"\n",
        "  ssSymbol = '္'\n",
        "  ngaThat = 'င်'\n",
        "  aThat = '်'\n",
        "\n",
        "  break_pattern = re.compile(\"((?<!\" + ssSymbol + \")[\"+ myConsonant + \"](?![\" + aThat + ssSymbol + \"])\" + \"|[\" + enChar + otherChar + \"])\", re.UNICODE)\n",
        "\n",
        "  line = break_pattern.sub(r\" \" + r\"\\1\", line)\n",
        "  return line\n"
      ]
    },
    {
      "cell_type": "code",
      "source": [
        "!pip install python-Levenshtein"
      ],
      "metadata": {
        "colab": {
          "base_uri": "https://localhost:8080/"
        },
        "id": "BlUbkHlFtnCu",
        "outputId": "513f3087-5d2d-448a-a8a5-fdc7a5cb3194"
      },
      "execution_count": 1,
      "outputs": [
        {
          "output_type": "stream",
          "name": "stdout",
          "text": [
            "Looking in indexes: https://pypi.org/simple, https://us-python.pkg.dev/colab-wheels/public/simple/\n",
            "Collecting python-Levenshtein\n",
            "  Downloading python-Levenshtein-0.12.2.tar.gz (50 kB)\n",
            "\u001b[K     |████████████████████████████████| 50 kB 2.6 MB/s \n",
            "\u001b[?25hRequirement already satisfied: setuptools in /usr/local/lib/python3.7/dist-packages (from python-Levenshtein) (57.4.0)\n",
            "Building wheels for collected packages: python-Levenshtein\n",
            "  Building wheel for python-Levenshtein (setup.py) ... \u001b[?25l\u001b[?25hdone\n",
            "  Created wheel for python-Levenshtein: filename=python_Levenshtein-0.12.2-cp37-cp37m-linux_x86_64.whl size=149874 sha256=107ad1c94dc62acd4f5a1baaa0f8e8a66bd8d5736ed1ff0a4ea389f3e6a1e69d\n",
            "  Stored in directory: /root/.cache/pip/wheels/05/5f/ca/7c4367734892581bb5ff896f15027a932c551080b2abd3e00d\n",
            "Successfully built python-Levenshtein\n",
            "Installing collected packages: python-Levenshtein\n",
            "Successfully installed python-Levenshtein-0.12.2\n"
          ]
        }
      ]
    },
    {
      "cell_type": "code",
      "source": [
        "#Load Data\n",
        "import pandas as pd\n",
        "\n",
        "data = pd.read_csv(\"data/covid.csv\")\n",
        "data.head(5)"
      ],
      "metadata": {
        "colab": {
          "base_uri": "https://localhost:8080/",
          "height": 320
        },
        "id": "91AWVzWfts2E",
        "outputId": "38f3a43a-ed1e-4b51-c8a6-07dd933a01a2"
      },
      "execution_count": 2,
      "outputs": [
        {
          "output_type": "execute_result",
          "data": {
            "text/plain": [
              "                                            Question  \\\n",
              "0                  ကာကွယ်ဆေးကို ဘယ်သူတွေ ထိုးသင့်သလဲ   \n",
              "1             ဘယ်သူတွေကို ကာကွယ်ဆေး ဦးစားပေးထိုးရမလဲ   \n",
              "2  ဘယ်သူတွေမှာ ဆရာဝန်နဲ့ သေချာတိုင်ပင်ပြီးမှ ကာကွ...   \n",
              "3            ဘယ်သူတွေမှာ ကာကွယ်ဆေးလုံးဝ မထိုးသင့်သလဲ   \n",
              "4  covid ရောဂါဖြစ်ထားဖူးသူတွေမှာ covid ကာကွယ်ဆေးထ...   \n",
              "\n",
              "                                              Answer  \n",
              "0  အကြမ်းအားဖြင့် အသက် ၁၂ နှစ် (သို့) ၁၈ နှစ် နှင...  \n",
              "1  အသက် ၆၅ နှစ်နှင့်အထက်လူကြီးများ၊ သွေးတိုး၊ ဆီး...  \n",
              "2  ခုခံအားနည်းနေသူများ၊ HIV ရောဂါ၊ ကင်ဆာရောဂါ၊ ခု...  \n",
              "3  ပထမအကြိမ်ကာကွယ်ဆေးတွင် အပြင်းအထန်ဓာတ်မတည့်သည့်...  \n",
              "4  ရောဂါကူးစက်ခံရသူများ၏antibodyသည် ကာကွယ်ဆေးပြီး...  "
            ],
            "text/html": [
              "\n",
              "  <div id=\"df-4b504869-cb0d-48cd-b77f-c43c9c174aa2\">\n",
              "    <div class=\"colab-df-container\">\n",
              "      <div>\n",
              "<style scoped>\n",
              "    .dataframe tbody tr th:only-of-type {\n",
              "        vertical-align: middle;\n",
              "    }\n",
              "\n",
              "    .dataframe tbody tr th {\n",
              "        vertical-align: top;\n",
              "    }\n",
              "\n",
              "    .dataframe thead th {\n",
              "        text-align: right;\n",
              "    }\n",
              "</style>\n",
              "<table border=\"1\" class=\"dataframe\">\n",
              "  <thead>\n",
              "    <tr style=\"text-align: right;\">\n",
              "      <th></th>\n",
              "      <th>Question</th>\n",
              "      <th>Answer</th>\n",
              "    </tr>\n",
              "  </thead>\n",
              "  <tbody>\n",
              "    <tr>\n",
              "      <th>0</th>\n",
              "      <td>ကာကွယ်ဆေးကို ဘယ်သူတွေ ထိုးသင့်သလဲ</td>\n",
              "      <td>အကြမ်းအားဖြင့် အသက် ၁၂ နှစ် (သို့) ၁၈ နှစ် နှင...</td>\n",
              "    </tr>\n",
              "    <tr>\n",
              "      <th>1</th>\n",
              "      <td>ဘယ်သူတွေကို ကာကွယ်ဆေး ဦးစားပေးထိုးရမလဲ</td>\n",
              "      <td>အသက် ၆၅ နှစ်နှင့်အထက်လူကြီးများ၊ သွေးတိုး၊ ဆီး...</td>\n",
              "    </tr>\n",
              "    <tr>\n",
              "      <th>2</th>\n",
              "      <td>ဘယ်သူတွေမှာ ဆရာဝန်နဲ့ သေချာတိုင်ပင်ပြီးမှ ကာကွ...</td>\n",
              "      <td>ခုခံအားနည်းနေသူများ၊ HIV ရောဂါ၊ ကင်ဆာရောဂါ၊ ခု...</td>\n",
              "    </tr>\n",
              "    <tr>\n",
              "      <th>3</th>\n",
              "      <td>ဘယ်သူတွေမှာ ကာကွယ်ဆေးလုံးဝ မထိုးသင့်သလဲ</td>\n",
              "      <td>ပထမအကြိမ်ကာကွယ်ဆေးတွင် အပြင်းအထန်ဓာတ်မတည့်သည့်...</td>\n",
              "    </tr>\n",
              "    <tr>\n",
              "      <th>4</th>\n",
              "      <td>covid ရောဂါဖြစ်ထားဖူးသူတွေမှာ covid ကာကွယ်ဆေးထ...</td>\n",
              "      <td>ရောဂါကူးစက်ခံရသူများ၏antibodyသည် ကာကွယ်ဆေးပြီး...</td>\n",
              "    </tr>\n",
              "  </tbody>\n",
              "</table>\n",
              "</div>\n",
              "      <button class=\"colab-df-convert\" onclick=\"convertToInteractive('df-4b504869-cb0d-48cd-b77f-c43c9c174aa2')\"\n",
              "              title=\"Convert this dataframe to an interactive table.\"\n",
              "              style=\"display:none;\">\n",
              "        \n",
              "  <svg xmlns=\"http://www.w3.org/2000/svg\" height=\"24px\"viewBox=\"0 0 24 24\"\n",
              "       width=\"24px\">\n",
              "    <path d=\"M0 0h24v24H0V0z\" fill=\"none\"/>\n",
              "    <path d=\"M18.56 5.44l.94 2.06.94-2.06 2.06-.94-2.06-.94-.94-2.06-.94 2.06-2.06.94zm-11 1L8.5 8.5l.94-2.06 2.06-.94-2.06-.94L8.5 2.5l-.94 2.06-2.06.94zm10 10l.94 2.06.94-2.06 2.06-.94-2.06-.94-.94-2.06-.94 2.06-2.06.94z\"/><path d=\"M17.41 7.96l-1.37-1.37c-.4-.4-.92-.59-1.43-.59-.52 0-1.04.2-1.43.59L10.3 9.45l-7.72 7.72c-.78.78-.78 2.05 0 2.83L4 21.41c.39.39.9.59 1.41.59.51 0 1.02-.2 1.41-.59l7.78-7.78 2.81-2.81c.8-.78.8-2.07 0-2.86zM5.41 20L4 18.59l7.72-7.72 1.47 1.35L5.41 20z\"/>\n",
              "  </svg>\n",
              "      </button>\n",
              "      \n",
              "  <style>\n",
              "    .colab-df-container {\n",
              "      display:flex;\n",
              "      flex-wrap:wrap;\n",
              "      gap: 12px;\n",
              "    }\n",
              "\n",
              "    .colab-df-convert {\n",
              "      background-color: #E8F0FE;\n",
              "      border: none;\n",
              "      border-radius: 50%;\n",
              "      cursor: pointer;\n",
              "      display: none;\n",
              "      fill: #1967D2;\n",
              "      height: 32px;\n",
              "      padding: 0 0 0 0;\n",
              "      width: 32px;\n",
              "    }\n",
              "\n",
              "    .colab-df-convert:hover {\n",
              "      background-color: #E2EBFA;\n",
              "      box-shadow: 0px 1px 2px rgba(60, 64, 67, 0.3), 0px 1px 3px 1px rgba(60, 64, 67, 0.15);\n",
              "      fill: #174EA6;\n",
              "    }\n",
              "\n",
              "    [theme=dark] .colab-df-convert {\n",
              "      background-color: #3B4455;\n",
              "      fill: #D2E3FC;\n",
              "    }\n",
              "\n",
              "    [theme=dark] .colab-df-convert:hover {\n",
              "      background-color: #434B5C;\n",
              "      box-shadow: 0px 1px 3px 1px rgba(0, 0, 0, 0.15);\n",
              "      filter: drop-shadow(0px 1px 2px rgba(0, 0, 0, 0.3));\n",
              "      fill: #FFFFFF;\n",
              "    }\n",
              "  </style>\n",
              "\n",
              "      <script>\n",
              "        const buttonEl =\n",
              "          document.querySelector('#df-4b504869-cb0d-48cd-b77f-c43c9c174aa2 button.colab-df-convert');\n",
              "        buttonEl.style.display =\n",
              "          google.colab.kernel.accessAllowed ? 'block' : 'none';\n",
              "\n",
              "        async function convertToInteractive(key) {\n",
              "          const element = document.querySelector('#df-4b504869-cb0d-48cd-b77f-c43c9c174aa2');\n",
              "          const dataTable =\n",
              "            await google.colab.kernel.invokeFunction('convertToInteractive',\n",
              "                                                     [key], {});\n",
              "          if (!dataTable) return;\n",
              "\n",
              "          const docLinkHtml = 'Like what you see? Visit the ' +\n",
              "            '<a target=\"_blank\" href=https://colab.research.google.com/notebooks/data_table.ipynb>data table notebook</a>'\n",
              "            + ' to learn more about interactive tables.';\n",
              "          element.innerHTML = '';\n",
              "          dataTable['output_type'] = 'display_data';\n",
              "          await google.colab.output.renderOutput(dataTable, element);\n",
              "          const docLink = document.createElement('div');\n",
              "          docLink.innerHTML = docLinkHtml;\n",
              "          element.appendChild(docLink);\n",
              "        }\n",
              "      </script>\n",
              "    </div>\n",
              "  </div>\n",
              "  "
            ]
          },
          "metadata": {},
          "execution_count": 2
        }
      ]
    },
    {
      "cell_type": "code",
      "source": [
        "#calculate score using levenshtein distance\n",
        "from Levenshtein import ratio\n",
        "def getApproximateAnswer(ques):\n",
        "    max_score = 0\n",
        "    answer = \"\"\n",
        "    prediction = \"\"\n",
        "\n",
        "    for i, row in data.iterrows():\n",
        "        score = ratio(syllablebreak(row[\"Question\"].replace(\" \",\"\")), syllablebreak(ques.replace(\" \",\"\")))\n",
        "        \n",
        "        if score >= 0.9: \n",
        "            return row[\"Answer\"], score, row[\"Question\"]\n",
        "        elif score > max_score: \n",
        "            max_score = score\n",
        "            answer = row[\"Answer\"]\n",
        "            prediction = row[\"Question\"]\n",
        "    \n",
        "    if max_score > 0.7:\n",
        "        return answer, max_score, prediction\n",
        "    return \"Sorry, I didn't get you.\", max_score, prediction\n",
        "\n"
      ],
      "metadata": {
        "id": "BpUKc4Fofkie"
      },
      "execution_count": 32,
      "outputs": []
    },
    {
      "cell_type": "code",
      "source": [
        "result = getApproximateAnswer(\"ဘယ်သူတွေမှာ ဆရာဝန်နဲ့ သေချာတိုင်ပင်ပီး ဆေးထိုးရမလဲ\")\n",
        "print(\"Question: \",result[2])\n",
        "print(\"Answer: \", result[0])"
      ],
      "metadata": {
        "colab": {
          "base_uri": "https://localhost:8080/"
        },
        "id": "Z4d9JrHDA_sa",
        "outputId": "7c491ce2-169b-49f9-a600-25a573593c23"
      },
      "execution_count": 36,
      "outputs": [
        {
          "output_type": "stream",
          "name": "stdout",
          "text": [
            "Question:  ဘယ်သူတွေမှာ ဆရာဝန်နဲ့ သေချာတိုင်ပင်ပြီးမှ ကာကွယ်ဆေး ထိုးသင့်ပါသလဲ\n",
            "Answer:  ခုခံအားနည်းနေသူများ၊ HIV ရောဂါ၊ ကင်ဆာရောဂါ၊ ခုခံအားကျဆင်းစေသည့်ဆေးသောက်နေသူများ ထိုးမည်ဆိုပါက နီးစပ်ရာဆရာဝန်နှင့်သေချာတိုင်ပင်ပြီးမှ ထိုးသင့်ပါသည်\n"
          ]
        }
      ]
    },
    {
      "cell_type": "code",
      "source": [
        ""
      ],
      "metadata": {
        "id": "8UxceGqAKmS9"
      },
      "execution_count": null,
      "outputs": []
    }
  ]
}